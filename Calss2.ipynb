{
 "cells": [
  {
   "cell_type": "code",
   "execution_count": 7,
   "metadata": {},
   "outputs": [],
   "source": [
    "def BubbleSort(lst):\n",
    "    for j in range(len(lst)):\n",
    "        for i in range(len(lst) - 1):\n",
    "            if lst[i] > lst[i + 1]:\n",
    "                lst[i], lst[i + 1] = lst[i + 1], lst[i]\n",
    "    \n",
    "    return lst\n",
    "\n",
    "    "
   ]
  },
  {
   "cell_type": "code",
   "execution_count": 9,
   "metadata": {},
   "outputs": [
    {
     "name": "stdout",
     "output_type": "stream",
     "text": [
      "[1, 2, 3, 4, 8]\n"
     ]
    }
   ],
   "source": [
    "print(BubbleSort([8,2,4,1,3]))\n"
   ]
  },
  {
   "attachments": {},
   "cell_type": "markdown",
   "metadata": {},
   "source": [
    "## Merge Sort"
   ]
  },
  {
   "cell_type": "code",
   "execution_count": 14,
   "metadata": {},
   "outputs": [],
   "source": [
    "def mergeSort(lst):\n",
    "    size = len(lst)\n",
    "    if size == 1:\n",
    "        return lst\n",
    "    mid = size // 2\n",
    "    leftHalf = mergeSort(lst[:mid])\n",
    "    rightHalf = mergeSort(lst[mid:])\n",
    "    return merge(leftHalf, rightHalf)\n",
    "\n",
    "def merge(lst1, lst2):\n",
    "    result = []\n",
    "    index1 = 0\n",
    "    index2 = 0\n",
    "    while index1 < len(lst1) and index2 < len(lst2):\n",
    "        if lst1[index1] < lst2[index2]:\n",
    "            result.append(lst1[index1])\n",
    "            index1 += 1 \n",
    "        else:\n",
    "            result.append(lst2[index2])\n",
    "            index2 += 1\n",
    "    \n",
    "    while index1 < len(lst1):\n",
    "        result.append(lst1[index1])\n",
    "        index1 += 1 \n",
    "\n",
    "    while index2 < len(lst2):\n",
    "        result.append(lst2[index2])\n",
    "        index2 += 1\n",
    "\n",
    "    return result"
   ]
  },
  {
   "cell_type": "code",
   "execution_count": 20,
   "metadata": {},
   "outputs": [
    {
     "name": "stdout",
     "output_type": "stream",
     "text": [
      "[-1, 0, 1, 2, 3, 4, 7, 9, 10, 20]\n"
     ]
    }
   ],
   "source": [
    "print(mergeSort([4,1,3,2,0,-1,7,10,9,20]))"
   ]
  },
  {
   "attachments": {},
   "cell_type": "markdown",
   "metadata": {},
   "source": [
    "## Quick Sort"
   ]
  },
  {
   "cell_type": "code",
   "execution_count": 21,
   "metadata": {},
   "outputs": [],
   "source": [
    "def QS(lst):\n",
    "    if len(lst) <= 1:\n",
    "        return lst\n",
    "    leftOfPivot = []\n",
    "    rightOfPivot = []\n",
    "    pivot = lst.pop()\n",
    "\n",
    "    for item in lst:\n",
    "        if item <= pivot:\n",
    "            leftOfPivot.append(item)\n",
    "        else:\n",
    "            rightOfPivot.append(item)\n",
    "    return QS(leftOfPivot) + [pivot] + QS(rightOfPivot)"
   ]
  },
  {
   "cell_type": "code",
   "execution_count": 22,
   "metadata": {},
   "outputs": [
    {
     "name": "stdout",
     "output_type": "stream",
     "text": [
      "[-1, 0, 1, 2, 3, 4, 7, 9, 10, 20]\n"
     ]
    }
   ],
   "source": [
    "print(QS([4,1,3,2,0,-1,7,10,9,20]))"
   ]
  },
  {
   "cell_type": "code",
   "execution_count": null,
   "metadata": {},
   "outputs": [],
   "source": []
  }
 ],
 "metadata": {
  "kernelspec": {
   "display_name": "Python 3",
   "language": "python",
   "name": "python3"
  },
  "language_info": {
   "codemirror_mode": {
    "name": "ipython",
    "version": 3
   },
   "file_extension": ".py",
   "mimetype": "text/x-python",
   "name": "python",
   "nbconvert_exporter": "python",
   "pygments_lexer": "ipython3",
   "version": "3.10.2"
  },
  "orig_nbformat": 4
 },
 "nbformat": 4,
 "nbformat_minor": 2
}
